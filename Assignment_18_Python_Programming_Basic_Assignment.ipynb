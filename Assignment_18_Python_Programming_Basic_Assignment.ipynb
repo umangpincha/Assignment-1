{
 "cells": [
  {
   "cell_type": "code",
   "execution_count": 10,
   "id": "fdc5a1db",
   "metadata": {},
   "outputs": [
    {
     "name": "stdout",
     "output_type": "stream",
     "text": [
      "enter the length of list: 4\n",
      "1\n",
      "2\n",
      "a\n",
      "b\n"
     ]
    },
    {
     "data": {
      "text/plain": [
       "[1, 2]"
      ]
     },
     "metadata": {},
     "output_type": "display_data"
    }
   ],
   "source": [
    "# Q1\n",
    "class filter_list:\n",
    "    \n",
    "    def display(self , tmp):\n",
    "        for i in range(len(tmp)):\n",
    "            print(tmp[i] , end=\" \")\n",
    "            \n",
    "    def fun(self , lst):\n",
    "        tmp=[]\n",
    "        for i in range(len(lst)):\n",
    "            if(lst[i].isdigit()):\n",
    "                tmp.append(int(lst[i]))\n",
    "        display(tmp)\n",
    "    \n",
    "    def __str__(self):\n",
    "        return \"Class Created\"\n",
    "    \n",
    "\n",
    "    \n",
    "ob = filter_list()\n",
    "lst = []\n",
    "n = int(input(\"enter the length of list: \"))\n",
    "for i in range(n):\n",
    "    lst.append(input())\n",
    "ob.fun(lst)"
   ]
  },
  {
   "cell_type": "code",
   "execution_count": 20,
   "id": "366e399a",
   "metadata": {},
   "outputs": [
    {
     "name": "stdout",
     "output_type": "stream",
     "text": [
      "ReVeRsE\n",
      "eSrEvEr"
     ]
    }
   ],
   "source": [
    "# Q2\n",
    "# Q1\n",
    "class Reverse:\n",
    "    def reverse(self , string):\n",
    "        lst=[]\n",
    "        for i in range(len(string)):\n",
    "            if(string[i].isupper()):\n",
    "                lst.append(string[i].lower())\n",
    "            elif(string[i].islower()):\n",
    "                lst.append(string[i].upper())\n",
    "                \n",
    "        l = len(lst)-1\n",
    "        while(l>=0):\n",
    "            if(lst[l]==\" \"):\n",
    "                print(\" \")\n",
    "            else:\n",
    "                print(lst[l],end=\"\")\n",
    "                l-=1\n",
    "    \n",
    "    def __str__(self):\n",
    "        return \"Class Created\"\n",
    "    \n",
    "\n",
    "    \n",
    "ob = Reverse()\n",
    "string = input()\n",
    "ob.reverse(string)"
   ]
  },
  {
   "cell_type": "code",
   "execution_count": 27,
   "id": "9e326bc0",
   "metadata": {},
   "outputs": [
    {
     "name": "stdout",
     "output_type": "stream",
     "text": [
      "1\n",
      "[2, 3, 4, 5]\n",
      "6\n"
     ]
    }
   ],
   "source": [
    "# Q3\n",
    "class myClass:\n",
    "    def fun(self , lst):\n",
    "        first = lst[0]\n",
    "        middle = lst[1:-1]\n",
    "        last = lst[-1]\n",
    "        print(first)\n",
    "        print(middle)\n",
    "        print(last)\n",
    "    def __str__(self):\n",
    "        return \"Class Created\"\n",
    "    \n",
    "\n",
    "    \n",
    "ob=myClass()\n",
    "lst = [1,2,3,4,5,6]\n",
    "ob.fun(lst)"
   ]
  },
  {
   "cell_type": "code",
   "execution_count": 33,
   "id": "459f50e6",
   "metadata": {},
   "outputs": [
    {
     "name": "stdout",
     "output_type": "stream",
     "text": [
      "3\n"
     ]
    },
    {
     "data": {
      "text/plain": [
       "6"
      ]
     },
     "execution_count": 33,
     "metadata": {},
     "output_type": "execute_result"
    }
   ],
   "source": [
    "def fact(n):\n",
    "    if(n==1):\n",
    "        return n\n",
    "    else:\n",
    "        return(n*fact(n-1))\n",
    "    \n",
    "\n",
    "\n",
    "n = int(input())\n",
    "ob.fact(n)"
   ]
  },
  {
   "cell_type": "code",
   "execution_count": 44,
   "id": "e95acf91",
   "metadata": {},
   "outputs": [
    {
     "name": "stdout",
     "output_type": "stream",
     "text": [
      "enter the length of list: 6\n",
      "1\n",
      "3\n",
      "2\n",
      "4\n",
      "4\n",
      "1\n",
      "Enter number to shift: 1\n",
      "[3, 2, 4, 4, 1, 1]\n"
     ]
    }
   ],
   "source": [
    "def move_to_end(lst , num):\n",
    "    lst.append(lst.pop(lst.index(num)))\n",
    "    print(lst)\n",
    "    \n",
    "\n",
    "    \n",
    "lst = []\n",
    "n = int(input(\"enter the length of list: \"))\n",
    "for i in range(0,n):\n",
    "    lst.append(int(input()))\n",
    "num=int(input(\"Enter number to shift: \"))\n",
    "move_to_end(lst , num)"
   ]
  }
 ],
 "metadata": {
  "kernelspec": {
   "display_name": "Python 3",
   "language": "python",
   "name": "python3"
  },
  "language_info": {
   "codemirror_mode": {
    "name": "ipython",
    "version": 3
   },
   "file_extension": ".py",
   "mimetype": "text/x-python",
   "name": "python",
   "nbconvert_exporter": "python",
   "pygments_lexer": "ipython3",
   "version": "3.8.8"
  }
 },
 "nbformat": 4,
 "nbformat_minor": 5
}
