{
 "cells": [
  {
   "cell_type": "code",
   "execution_count": 4,
   "id": "083338dd",
   "metadata": {},
   "outputs": [
    {
     "name": "stdout",
     "output_type": "stream",
     "text": [
      "Enter lower limit: 7\n",
      "Enter upper limit: 9\n",
      "Enter n: 2\n",
      "[8]\n"
     ]
    }
   ],
   "source": [
    "# Q1\n",
    "def list_operation(x,y,n):\n",
    "    lst=[]\n",
    "    for i in range(x,y+1):\n",
    "        if(i%n==0):\n",
    "            lst.append(i)\n",
    "    return(lst)\n",
    "\n",
    "\n",
    "x=int(input(\"Enter lower limit: \"))\n",
    "y=int(input(\"Enter upper limit: \"))\n",
    "n=int(input(\"Enter n: \"))\n",
    "print(list_operation(x,y,n))"
   ]
  },
  {
   "cell_type": "code",
   "execution_count": 13,
   "id": "3dcab0b8",
   "metadata": {},
   "outputs": [
    {
     "name": "stdout",
     "output_type": "stream",
     "text": [
      "False\n"
     ]
    }
   ],
   "source": [
    "# Q2\n",
    "def simon_says(l1 , l2):\n",
    "    l3 = l1[0:-1]\n",
    "    l4 = l2[1:]\n",
    "    if(l3 == l4):\n",
    "        return True\n",
    "    else:\n",
    "        return False\n",
    "    \n",
    "l1=[1,2]\n",
    "l2=[5,5]\n",
    "print(simon_says(l1 , l2))"
   ]
  },
  {
   "cell_type": "code",
   "execution_count": 29,
   "id": "761592d6",
   "metadata": {},
   "outputs": [
    {
     "name": "stdout",
     "output_type": "stream",
     "text": [
      "AMs"
     ]
    }
   ],
   "source": [
    "# Q3\n",
    "def society_name(li):\n",
    "    l2=[]\n",
    "    for i in range(len(li)):\n",
    "        l2.append(li[i][0])\n",
    "    l3 = sorted(l2)\n",
    "    for i in range(len(l3)):\n",
    "        print(l3[i] , end=\"\")\n",
    "    \n",
    "li=[\"Adam\" , \"sarah\" , \"Monica\"]\n",
    "society_name(li)"
   ]
  },
  {
   "cell_type": "code",
   "execution_count": 33,
   "id": "2d77c0f8",
   "metadata": {},
   "outputs": [
    {
     "data": {
      "text/plain": [
       "True"
      ]
     },
     "execution_count": 33,
     "metadata": {},
     "output_type": "execute_result"
    }
   ],
   "source": [
    "# Q4\n",
    "def is_isogram(word):\n",
    "    clean_word = word.lower()\n",
    "    letter_list = []\n",
    "    for letter in clean_word:\n",
    "        if letter.isalpha():\n",
    "            if letter in letter_list:\n",
    "                return False\n",
    "            letter_list.append(letter)\n",
    " \n",
    "    return True\n",
    "    \n",
    "\n",
    "s=\"Algorism\"\n",
    "is_isogram(s)"
   ]
  },
  {
   "cell_type": "code",
   "execution_count": 37,
   "id": "709b411d",
   "metadata": {},
   "outputs": [
    {
     "name": "stdout",
     "output_type": "stream",
     "text": [
      "edabit\n",
      "False\n"
     ]
    }
   ],
   "source": [
    "\n",
    "def is_in_order(s):\n",
    "    for i in range(len(s)-1):\n",
    "        if(s[i] > s[i+1]):\n",
    "            return False\n",
    "        else:\n",
    "            continue\n",
    "    return True\n",
    "    \n",
    "    \n",
    "    \n",
    "s=input()\n",
    "print(is_in_order(s))"
   ]
  },
  {
   "cell_type": "code",
   "execution_count": null,
   "id": "6fbd5b9e",
   "metadata": {},
   "outputs": [],
   "source": []
  },
  {
   "cell_type": "code",
   "execution_count": null,
   "id": "57432581",
   "metadata": {},
   "outputs": [],
   "source": []
  }
 ],
 "metadata": {
  "kernelspec": {
   "display_name": "Python 3",
   "language": "python",
   "name": "python3"
  },
  "language_info": {
   "codemirror_mode": {
    "name": "ipython",
    "version": 3
   },
   "file_extension": ".py",
   "mimetype": "text/x-python",
   "name": "python",
   "nbconvert_exporter": "python",
   "pygments_lexer": "ipython3",
   "version": "3.8.8"
  }
 },
 "nbformat": 4,
 "nbformat_minor": 5
}
