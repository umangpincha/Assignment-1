{
 "cells": [
  {
   "cell_type": "markdown",
   "id": "b6ef64d8",
   "metadata": {},
   "source": []
  },
  {
   "cell_type": "markdown",
   "id": "61e1bd5b",
   "metadata": {},
   "source": [
    "# "
   ]
  },
  {
   "cell_type": "code",
   "execution_count": 1,
   "id": "26cbd4f1",
   "metadata": {},
   "outputs": [
    {
     "name": "stdout",
     "output_type": "stream",
     "text": [
      "enter the length of list: 6\n",
      "1\n",
      "2\n",
      "3\n",
      "a\n",
      "b\n",
      "4\n"
     ]
    },
    {
     "data": {
      "text/plain": [
       "[1, 2, 3, 4]"
      ]
     },
     "metadata": {},
     "output_type": "display_data"
    }
   ],
   "source": [
    "# Q1\n",
    "class filter_list:\n",
    "    \n",
    "    def display(self , tmp):\n",
    "        for i in range(len(tmp)):\n",
    "            print(tmp[i] , end=\" \")\n",
    "            \n",
    "    def fun(self , lst):\n",
    "        tmp=[]\n",
    "        for i in range(len(lst)):\n",
    "            if(lst[i].isdigit()):\n",
    "                tmp.append(int(lst[i]))\n",
    "        display(tmp)\n",
    "    \n",
    "    def __str__(self):\n",
    "        return \"Class Created\"\n",
    "    \n",
    "\n",
    "    \n",
    "ob = filter_list()\n",
    "lst = []\n",
    "n = int(input(\"enter the length of list: \"))\n",
    "for i in range(n):\n",
    "    lst.append(input())\n",
    "ob.fun(lst)"
   ]
  },
  {
   "cell_type": "code",
   "execution_count": 4,
   "id": "7b357b8b",
   "metadata": {},
   "outputs": [
    {
     "name": "stdout",
     "output_type": "stream",
     "text": [
      "5\n",
      "1\n",
      "2\n",
      "3\n",
      "4\n",
      "5\n"
     ]
    },
    {
     "data": {
      "text/plain": [
       "[1, 3, 5, 7, 9]"
      ]
     },
     "execution_count": 4,
     "metadata": {},
     "output_type": "execute_result"
    }
   ],
   "source": [
    "# Q2\n",
    "def add_indexes(lst):\n",
    "    for i in range(len(lst)):\n",
    "        lst[i]+=i\n",
    "    return(lst)\n",
    "\n",
    "\n",
    "lst=[]\n",
    "n = int(input())\n",
    "for i in range(n):\n",
    "    lst.append(int(input()))\n",
    "add_indexes(lst)"
   ]
  },
  {
   "cell_type": "code",
   "execution_count": 10,
   "id": "612aee37",
   "metadata": {},
   "outputs": [
    {
     "data": {
      "text/plain": [
       "18.84"
      ]
     },
     "execution_count": 10,
     "metadata": {},
     "output_type": "execute_result"
    }
   ],
   "source": [
    "# Q3\n",
    "def cone_volume(r,h):\n",
    "    vol_cone=(1/3)*(3.14)*(r*r)*(h)\n",
    "    return vol_cone\n",
    "\n",
    "cone_volume(3,2)"
   ]
  },
  {
   "cell_type": "code",
   "execution_count": 19,
   "id": "f4815580",
   "metadata": {},
   "outputs": [
    {
     "name": "stdout",
     "output_type": "stream",
     "text": [
      "215\n"
     ]
    },
    {
     "data": {
      "text/plain": [
       "23220"
      ]
     },
     "execution_count": 19,
     "metadata": {},
     "output_type": "execute_result"
    }
   ],
   "source": [
    "# Q4\n",
    "def triangle(n):\n",
    "    flag=1\n",
    "    lst=[1]\n",
    "    tmp=2\n",
    "    for i in range(1,n):\n",
    "        flag+=tmp\n",
    "        lst.append(flag)\n",
    "        tmp+=1\n",
    "    return lst[n-1]\n",
    "\n",
    "n=int(input())\n",
    "triangle(n)"
   ]
  },
  {
   "cell_type": "code",
   "execution_count": 18,
   "id": "dc81bb4a",
   "metadata": {},
   "outputs": [
    {
     "name": "stdout",
     "output_type": "stream",
     "text": [
      "enter the length of list: 9\n",
      "1\n",
      "2\n",
      "3\n",
      "4\n",
      "6\n",
      "7\n",
      "8\n",
      "9\n",
      "10\n"
     ]
    },
    {
     "data": {
      "text/plain": [
       "5"
      ]
     },
     "execution_count": 18,
     "metadata": {},
     "output_type": "execute_result"
    }
   ],
   "source": [
    "# Q5\n",
    "def missing_num(lst):\n",
    "    for ele in range(1, max(lst) + 1):\n",
    "        if ele not in lst:\n",
    "            return ele\n",
    "lst = []\n",
    "n = int(input(\"enter the length of list: \"))\n",
    "for i in range(n):\n",
    "    lst.append(int(input()))\n",
    "missing_num(lst)"
   ]
  },
  {
   "cell_type": "code",
   "execution_count": null,
   "id": "c98f3bf5",
   "metadata": {},
   "outputs": [],
   "source": []
  }
 ],
 "metadata": {
  "kernelspec": {
   "display_name": "Python 3",
   "language": "python",
   "name": "python3"
  },
  "language_info": {
   "codemirror_mode": {
    "name": "ipython",
    "version": 3
   },
   "file_extension": ".py",
   "mimetype": "text/x-python",
   "name": "python",
   "nbconvert_exporter": "python",
   "pygments_lexer": "ipython3",
   "version": "3.8.8"
  }
 },
 "nbformat": 4,
 "nbformat_minor": 5
}
