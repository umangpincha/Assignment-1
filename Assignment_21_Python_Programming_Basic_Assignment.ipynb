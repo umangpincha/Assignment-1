{
 "cells": [
  {
   "cell_type": "markdown",
   "id": "0bc0d708",
   "metadata": {},
   "source": [
    "# Assignment 21"
   ]
  },
  {
   "cell_type": "code",
   "execution_count": 4,
   "id": "f490d68f",
   "metadata": {},
   "outputs": [
    {
     "name": "stdout",
     "output_type": "stream",
     "text": [
      "0\n",
      "6\n",
      "[]\n"
     ]
    }
   ],
   "source": [
    "# Q1\n",
    "def next_in_line(lst , n):\n",
    "    if(len(lst) == 0):\n",
    "        return lst\n",
    "    else:\n",
    "        lst.append(n)\n",
    "        return lst[1:]\n",
    "    \n",
    "\n",
    "    \n",
    "lst = []\n",
    "n=int(input())\n",
    "for i in range(n):\n",
    "    lst.append(int(input()))\n",
    "num = int(input())\n",
    "print(next_in_line(lst , num ))"
   ]
  },
  {
   "cell_type": "code",
   "execution_count": 16,
   "id": "0d56ac26",
   "metadata": {},
   "outputs": [
    {
     "data": {
      "text/plain": [
       "600"
      ]
     },
     "execution_count": 16,
     "metadata": {},
     "output_type": "execute_result"
    }
   ],
   "source": [
    "# Q2\n",
    "def get_budgets(d):\n",
    "    s=0\n",
    "    for key,value in d.items():\n",
    "        s+=d[key]['budget']\n",
    "    return s\n",
    "\n",
    "\n",
    "d = dict(emp1 = {'name': 'Bob', 'age': 21 ,'budget':100},\n",
    "         emp2 = {'name': 'Kim', 'age': 20 ,'budget':200},\n",
    "         emp3 = {'name': 'Sam', 'age': 30 ,'budget':300})\n",
    "get_budgets(d)"
   ]
  },
  {
   "cell_type": "code",
   "execution_count": 20,
   "id": "1cd4855e",
   "metadata": {},
   "outputs": [
    {
     "name": "stdout",
     "output_type": "stream",
     "text": [
      "hello\n",
      "ehllo"
     ]
    }
   ],
   "source": [
    "# Q3\n",
    "def alphabet_soup(s):\n",
    "    s1 = sorted(s)\n",
    "    for i in s1:\n",
    "        print(i,end=\"\")\n",
    "\n",
    "        \n",
    "s=input()\n",
    "alphabet_soup(s)"
   ]
  },
  {
   "cell_type": "code",
   "execution_count": 33,
   "id": "bdf9add6",
   "metadata": {},
   "outputs": [
    {
     "name": "stdout",
     "output_type": "stream",
     "text": [
      "Enter principal amount: 10000\n",
      "Enter the interest rate: 6\n",
      "Enter time (in years): 10\n",
      "Enter the number of times that interest is compounded per year: 12\n",
      "18193.97\n"
     ]
    }
   ],
   "source": [
    "# Q4\n",
    "def compound_interest(p,r,t,n):\n",
    "    amount = p* pow( 1+(r/n),n*t)\n",
    "    print(round(amount , 2))\n",
    "\n",
    "\n",
    "\n",
    "p = float(input('Enter principal amount: '))\n",
    "r = float(input('Enter the interest rate: '))\n",
    "t = float(input('Enter time (in years): '))\n",
    "n = int(input('Enter the number of times that interest is compounded per year: '))\n",
    "r = r/100\n",
    "compound_interest(p , r , t ,n)"
   ]
  },
  {
   "cell_type": "code",
   "execution_count": 34,
   "id": "cc4550c7",
   "metadata": {},
   "outputs": [
    {
     "name": "stdout",
     "output_type": "stream",
     "text": [
      "enter the length of list: 5\n",
      "n\n",
      "2\n",
      "space\n",
      "car\n",
      "34\n"
     ]
    },
    {
     "data": {
      "text/plain": [
       "[2, 34]"
      ]
     },
     "metadata": {},
     "output_type": "display_data"
    }
   ],
   "source": [
    "# Q5\n",
    "# Q1\n",
    "class filter_list:\n",
    "    \n",
    "    def display(self , tmp):\n",
    "        for i in range(len(tmp)):\n",
    "            print(tmp[i] , end=\" \")\n",
    "            \n",
    "    def fun(self , lst):\n",
    "        tmp=[]\n",
    "        for i in range(len(lst)):\n",
    "            if(lst[i].isdigit()):\n",
    "                tmp.append(int(lst[i]))\n",
    "        display(tmp)\n",
    "    \n",
    "    def __str__(self):\n",
    "        return \"Class Created\"\n",
    "    \n",
    "\n",
    "    \n",
    "ob = filter_list()\n",
    "lst = []\n",
    "n = int(input(\"enter the length of list: \"))\n",
    "for i in range(n):\n",
    "    lst.append(input())\n",
    "ob.fun(lst)"
   ]
  },
  {
   "cell_type": "code",
   "execution_count": null,
   "id": "7bb5b8b7",
   "metadata": {},
   "outputs": [],
   "source": []
  }
 ],
 "metadata": {
  "kernelspec": {
   "display_name": "Python 3",
   "language": "python",
   "name": "python3"
  },
  "language_info": {
   "codemirror_mode": {
    "name": "ipython",
    "version": 3
   },
   "file_extension": ".py",
   "mimetype": "text/x-python",
   "name": "python",
   "nbconvert_exporter": "python",
   "pygments_lexer": "ipython3",
   "version": "3.8.8"
  }
 },
 "nbformat": 4,
 "nbformat_minor": 5
}
