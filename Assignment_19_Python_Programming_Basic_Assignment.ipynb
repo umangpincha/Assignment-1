{
 "cells": [
  {
   "cell_type": "code",
   "execution_count": 19,
   "id": "8fbbd77c",
   "metadata": {},
   "outputs": [
    {
     "name": "stdout",
     "output_type": "stream",
     "text": [
      "SSttrriinngg"
     ]
    }
   ],
   "source": [
    "# Q1\n",
    "def double_char(s):\n",
    "    count=0\n",
    "    lst=[]\n",
    "    for i in range(len(s)):\n",
    "        char = s[i]\n",
    "        for j in range(i,len(s)):\n",
    "            if(s[j] == char):\n",
    "                count+=1\n",
    "        for k in range(0,count+1):\n",
    "            lst.append(char)\n",
    "        count=0\n",
    "    for l in range(len(lst)):\n",
    "        print(lst[l],end='')\n",
    "\n",
    "\n",
    "s=\"String\"\n",
    "double_char(s)"
   ]
  },
  {
   "cell_type": "code",
   "execution_count": 43,
   "id": "3ce61cb0",
   "metadata": {},
   "outputs": [
    {
     "name": "stdout",
     "output_type": "stream",
     "text": [
      "True\n",
      "False\n"
     ]
    }
   ],
   "source": [
    "# Q2\n",
    "def reverse(r):\n",
    "    if(r=='True'):\n",
    "        r=bool(r)\n",
    "        if(type(r)==bool):\n",
    "            return False\n",
    "    if(r=='False'):\n",
    "        r=bool(r)\n",
    "        if(type(r)==bool):\n",
    "            return True\n",
    "    else:\n",
    "        return \"boolean expected\"\n",
    "    \n",
    "    \n",
    "    \n",
    "r=input()\n",
    "print(reverse(r))"
   ]
  },
  {
   "cell_type": "code",
   "execution_count": 60,
   "id": "86e99307",
   "metadata": {},
   "outputs": [
    {
     "name": "stdout",
     "output_type": "stream",
     "text": [
      "21\n",
      "1048.576 m\n"
     ]
    }
   ],
   "source": [
    "# Q3\n",
    "def num_layer(n):\n",
    "    if(n==0 or n==1):\n",
    "        return n/1000\n",
    "    else:\n",
    "        res=0.5\n",
    "        t=4\n",
    "        for i in range(1 , n):\n",
    "            res=0.5*t\n",
    "            t*=2\n",
    "        return res/1000\n",
    "           \n",
    "\n",
    "n=int(input())\n",
    "print(num_layer(n) ,'m')"
   ]
  },
  {
   "cell_type": "code",
   "execution_count": 64,
   "id": "9226a556",
   "metadata": {},
   "outputs": [
    {
     "name": "stdout",
     "output_type": "stream",
     "text": [
      "eDaBiT\n",
      "[1, 3, 5]  \n"
     ]
    }
   ],
   "source": [
    "# Q4\n",
    "def index_of_caps(s):\n",
    "    lst=[]\n",
    "    for i in range(len(s)):\n",
    "        if(s[i].isupper()):\n",
    "            lst.append(i)\n",
    "    print(lst)\n",
    "            \n",
    "s=input()\n",
    "index_of_caps(s)"
   ]
  },
  {
   "cell_type": "code",
   "execution_count": 71,
   "id": "841dd107",
   "metadata": {},
   "outputs": [
    {
     "name": "stdout",
     "output_type": "stream",
     "text": [
      "8\n",
      "[2, 4, 6, 8]\n"
     ]
    }
   ],
   "source": [
    "#Q5\n",
    "def find_even_nums(n):\n",
    "    lst=[]\n",
    "    for i in range(1,n+1):\n",
    "        if(i%2==0):\n",
    "            lst.append(i)\n",
    "    print(lst)\n",
    "\n",
    "            \n",
    "n=int(input())\n",
    "find_even_nums(n)"
   ]
  },
  {
   "cell_type": "code",
   "execution_count": null,
   "id": "92104041",
   "metadata": {},
   "outputs": [],
   "source": []
  },
  {
   "cell_type": "code",
   "execution_count": null,
   "id": "5074b890",
   "metadata": {},
   "outputs": [],
   "source": []
  }
 ],
 "metadata": {
  "kernelspec": {
   "display_name": "Python 3",
   "language": "python",
   "name": "python3"
  },
  "language_info": {
   "codemirror_mode": {
    "name": "ipython",
    "version": 3
   },
   "file_extension": ".py",
   "mimetype": "text/x-python",
   "name": "python",
   "nbconvert_exporter": "python",
   "pygments_lexer": "ipython3",
   "version": "3.8.8"
  }
 },
 "nbformat": 4,
 "nbformat_minor": 5
}
